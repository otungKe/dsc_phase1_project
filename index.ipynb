{
 "cells": [
  {
   "cell_type": "markdown",
   "metadata": {},
   "source": [
    "# Movie Analysis for Microsoft's New Movie Studio\n",
    "\n",
    "## Overview\n",
    "This project analyzes various movie datasets to provide actionable insights for Microsoft's new movie studio. The goal is to identify key factors that contribute to a film's success, helping Microsoft make data-driven decisions on what types of films to produce.\n",
    "\n",
    "## Business Understanding\n",
    "**Stakeholder:** Microsoft's new movie studio.\n",
    "\n",
    "**Business Problem:** Microsoft wants to enter the movie production market but lacks experience in creating films. They need insights into the types of movies that are currently performing well at the box office to inform their production strategy.\n",
    "\n",
    "**Key Business Questions:**\n",
    "1. **What genres are most profitable?**\n",
    "2. **Which movie attributes correlate with higher box office returns?**\n",
    "3. **How do critical and audience ratings impact a movie's financial success?**\n",
    "\n",
    "## Data Understanding\n",
    "The analysis uses data from multiple sources:\n",
    "- **Box Office Mojo (bom.movie_gross.csv):** Contains box office data.\n",
    "- **IMDB (im.db):** SQLite database with detailed movie information and ratings.\n",
    "- **The Movie Database (tmdb.movies.csv):** Contains vote information.\n",
    "- **The Numbers (tn.movie_budgets.csv):** Contains information about production budget, and gross revenue information."
   ]
  },
  {
   "cell_type": "markdown",
   "metadata": {},
   "source": [
    "## 1. Exploring the Data\n",
    "This section delves into our datasets to gain a deeper understanding of their contents. By examining the features present in each dataset, we aim to discern how these attributes might influence the questions we seek to answer."
   ]
  },
  {
   "cell_type": "code",
   "execution_count": 1,
   "metadata": {},
   "outputs": [],
   "source": [
    "# import the relevant libraries\n",
    "import pandas as pd\n",
    "import matplotlib.pyplot as plt\n",
    "import seaborn as sns\n",
    "from collections import Counter\n",
    "import sqlite3\n",
    "import warnings\n",
    "warnings.filterwarnings('ignore')\n",
    "\n",
    "%matplotlib inline"
   ]
  },
  {
   "cell_type": "markdown",
   "metadata": {},
   "source": [
    "### Box Office Mojo (bom.movie_gross.csv)"
   ]
  },
  {
   "cell_type": "code",
   "execution_count": 2,
   "metadata": {},
   "outputs": [
    {
     "data": {
      "text/html": [
       "<div>\n",
       "<style scoped>\n",
       "    .dataframe tbody tr th:only-of-type {\n",
       "        vertical-align: middle;\n",
       "    }\n",
       "\n",
       "    .dataframe tbody tr th {\n",
       "        vertical-align: top;\n",
       "    }\n",
       "\n",
       "    .dataframe thead th {\n",
       "        text-align: right;\n",
       "    }\n",
       "</style>\n",
       "<table border=\"1\" class=\"dataframe\">\n",
       "  <thead>\n",
       "    <tr style=\"text-align: right;\">\n",
       "      <th></th>\n",
       "      <th>title</th>\n",
       "      <th>studio</th>\n",
       "      <th>domestic_gross</th>\n",
       "      <th>foreign_gross</th>\n",
       "      <th>year</th>\n",
       "    </tr>\n",
       "  </thead>\n",
       "  <tbody>\n",
       "    <tr>\n",
       "      <th>0</th>\n",
       "      <td>Toy Story 3</td>\n",
       "      <td>BV</td>\n",
       "      <td>415000000.0</td>\n",
       "      <td>652000000</td>\n",
       "      <td>2010</td>\n",
       "    </tr>\n",
       "    <tr>\n",
       "      <th>1</th>\n",
       "      <td>Alice in Wonderland (2010)</td>\n",
       "      <td>BV</td>\n",
       "      <td>334200000.0</td>\n",
       "      <td>691300000</td>\n",
       "      <td>2010</td>\n",
       "    </tr>\n",
       "    <tr>\n",
       "      <th>2</th>\n",
       "      <td>Harry Potter and the Deathly Hallows Part 1</td>\n",
       "      <td>WB</td>\n",
       "      <td>296000000.0</td>\n",
       "      <td>664300000</td>\n",
       "      <td>2010</td>\n",
       "    </tr>\n",
       "    <tr>\n",
       "      <th>3</th>\n",
       "      <td>Inception</td>\n",
       "      <td>WB</td>\n",
       "      <td>292600000.0</td>\n",
       "      <td>535700000</td>\n",
       "      <td>2010</td>\n",
       "    </tr>\n",
       "    <tr>\n",
       "      <th>4</th>\n",
       "      <td>Shrek Forever After</td>\n",
       "      <td>P/DW</td>\n",
       "      <td>238700000.0</td>\n",
       "      <td>513900000</td>\n",
       "      <td>2010</td>\n",
       "    </tr>\n",
       "  </tbody>\n",
       "</table>\n",
       "</div>"
      ],
      "text/plain": [
       "                                         title studio  domestic_gross  \\\n",
       "0                                  Toy Story 3     BV     415000000.0   \n",
       "1                   Alice in Wonderland (2010)     BV     334200000.0   \n",
       "2  Harry Potter and the Deathly Hallows Part 1     WB     296000000.0   \n",
       "3                                    Inception     WB     292600000.0   \n",
       "4                          Shrek Forever After   P/DW     238700000.0   \n",
       "\n",
       "  foreign_gross  year  \n",
       "0     652000000  2010  \n",
       "1     691300000  2010  \n",
       "2     664300000  2010  \n",
       "3     535700000  2010  \n",
       "4     513900000  2010  "
      ]
     },
     "execution_count": 2,
     "metadata": {},
     "output_type": "execute_result"
    }
   ],
   "source": [
    "#Load the dataset\n",
    "df_bom = pd.read_csv('data/bom.movie_gross.csv')\n",
    "df_bom.head()"
   ]
  },
  {
   "cell_type": "code",
   "execution_count": 3,
   "metadata": {},
   "outputs": [
    {
     "name": "stdout",
     "output_type": "stream",
     "text": [
      "<class 'pandas.core.frame.DataFrame'>\n",
      "RangeIndex: 3387 entries, 0 to 3386\n",
      "Data columns (total 5 columns):\n",
      " #   Column          Non-Null Count  Dtype  \n",
      "---  ------          --------------  -----  \n",
      " 0   title           3387 non-null   object \n",
      " 1   studio          3382 non-null   object \n",
      " 2   domestic_gross  3359 non-null   float64\n",
      " 3   foreign_gross   2037 non-null   object \n",
      " 4   year            3387 non-null   int64  \n",
      "dtypes: float64(1), int64(1), object(3)\n",
      "memory usage: 132.4+ KB\n"
     ]
    }
   ],
   "source": [
    "df_bom.info()"
   ]
  },
  {
   "cell_type": "code",
   "execution_count": 4,
   "metadata": {},
   "outputs": [
    {
     "data": {
      "text/plain": [
       "title                0\n",
       "studio               5\n",
       "domestic_gross      28\n",
       "foreign_gross     1350\n",
       "year                 0\n",
       "dtype: int64"
      ]
     },
     "execution_count": 4,
     "metadata": {},
     "output_type": "execute_result"
    }
   ],
   "source": [
    "# investigate null values\n",
    "df_bom.isna().sum()"
   ]
  },
  {
   "cell_type": "code",
   "execution_count": 5,
   "metadata": {},
   "outputs": [],
   "source": [
    "df_bom['foreign_gross'] = df_bom['foreign_gross'].str.replace(',', '').astype(float)"
   ]
  },
  {
   "cell_type": "code",
   "execution_count": 6,
   "metadata": {},
   "outputs": [
    {
     "data": {
      "text/plain": [
       "title             0\n",
       "studio            0\n",
       "domestic_gross    0\n",
       "foreign_gross     0\n",
       "year              0\n",
       "dtype: int64"
      ]
     },
     "execution_count": 6,
     "metadata": {},
     "output_type": "execute_result"
    }
   ],
   "source": [
    "#replace nulls with 0\n",
    "df_bom.fillna(0, inplace=True)\n",
    "df_bom.isna().sum()"
   ]
  },
  {
   "cell_type": "markdown",
   "metadata": {},
   "source": [
    "### IMDB (imdb dataset)"
   ]
  },
  {
   "cell_type": "code",
   "execution_count": 7,
   "metadata": {},
   "outputs": [],
   "source": [
    "#create connection\n",
    "conn = sqlite3.connect('data/im.db')\n",
    "\n",
    "#the tables in the database\n",
    "q = \"\"\"\n",
    "SELECT *\n",
    "FROM sqlite_master\n",
    "WHERE type='table'\n",
    "\"\"\"\n",
    "tables = list(pd.read_sql(q, conn)['name'])"
   ]
  },
  {
   "cell_type": "code",
   "execution_count": 8,
   "metadata": {},
   "outputs": [
    {
     "name": "stdout",
     "output_type": "stream",
     "text": [
      "movie_basics:['movie_id', 'primary_title', 'original_title', 'start_year', 'runtime_minutes', 'genres']\n",
      "directors:['movie_id', 'person_id']\n",
      "known_for:['person_id', 'movie_id']\n",
      "movie_akas:['movie_id', 'ordering', 'title', 'region', 'language', 'types', 'attributes', 'is_original_title']\n",
      "movie_ratings:['movie_id', 'averagerating', 'numvotes']\n",
      "persons:['person_id', 'primary_name', 'birth_year', 'death_year', 'primary_profession']\n",
      "principals:['movie_id', 'ordering', 'person_id', 'category', 'job', 'characters']\n",
      "writers:['movie_id', 'person_id']\n"
     ]
    }
   ],
   "source": [
    "#load tables\n",
    "def load_table(name):\n",
    "    q = f\"\"\"\n",
    "    SELECT *\n",
    "    FROM {name}\n",
    "    \"\"\"\n",
    "    \n",
    "    return pd.read_sql(q, conn)\n",
    "\n",
    "#load the columns of the tables:\n",
    "def load_columns(name):\n",
    "    return f\"{name}:{list(load_table(name).columns)}\"\n",
    "    \n",
    "for table in tables:\n",
    "    print(load_columns(table))"
   ]
  },
  {
   "cell_type": "code",
   "execution_count": 9,
   "metadata": {},
   "outputs": [],
   "source": [
    "#Create a dataframe with features that we will use: \n",
    "q = \"\"\"\n",
    "SELECT DISTINCT\n",
    "    m.primary_title,\n",
    "    m.start_year,\n",
    "    m.runtime_minutes,\n",
    "    m.genres,\n",
    "    p.primary_name AS director_name,\n",
    "    r.averagerating,\n",
    "    r.numvotes\n",
    "FROM \n",
    "    movie_basics m\n",
    "JOIN \n",
    "    directors d ON m.movie_id = d.movie_id\n",
    "JOIN \n",
    "    persons p ON d.person_id = p.person_id\n",
    "LEFT JOIN \n",
    "    movie_ratings r ON m.movie_id = r.movie_id;\n",
    "\n",
    "\"\"\"\n",
    "\n",
    "df_db = pd.read_sql(q, conn)"
   ]
  },
  {
   "cell_type": "code",
   "execution_count": 10,
   "metadata": {},
   "outputs": [
    {
     "data": {
      "text/html": [
       "<div>\n",
       "<style scoped>\n",
       "    .dataframe tbody tr th:only-of-type {\n",
       "        vertical-align: middle;\n",
       "    }\n",
       "\n",
       "    .dataframe tbody tr th {\n",
       "        vertical-align: top;\n",
       "    }\n",
       "\n",
       "    .dataframe thead th {\n",
       "        text-align: right;\n",
       "    }\n",
       "</style>\n",
       "<table border=\"1\" class=\"dataframe\">\n",
       "  <thead>\n",
       "    <tr style=\"text-align: right;\">\n",
       "      <th></th>\n",
       "      <th>primary_title</th>\n",
       "      <th>start_year</th>\n",
       "      <th>runtime_minutes</th>\n",
       "      <th>genres</th>\n",
       "      <th>director_name</th>\n",
       "      <th>averagerating</th>\n",
       "      <th>numvotes</th>\n",
       "    </tr>\n",
       "  </thead>\n",
       "  <tbody>\n",
       "    <tr>\n",
       "      <th>0</th>\n",
       "      <td>Sunghursh</td>\n",
       "      <td>2013</td>\n",
       "      <td>175.0</td>\n",
       "      <td>Action,Crime,Drama</td>\n",
       "      <td>Harnam Singh Rawail</td>\n",
       "      <td>7.0</td>\n",
       "      <td>77.0</td>\n",
       "    </tr>\n",
       "    <tr>\n",
       "      <th>1</th>\n",
       "      <td>One Day Before the Rainy Season</td>\n",
       "      <td>2019</td>\n",
       "      <td>114.0</td>\n",
       "      <td>Biography,Drama</td>\n",
       "      <td>Mani Kaul</td>\n",
       "      <td>7.2</td>\n",
       "      <td>43.0</td>\n",
       "    </tr>\n",
       "    <tr>\n",
       "      <th>2</th>\n",
       "      <td>The Other Side of the Wind</td>\n",
       "      <td>2018</td>\n",
       "      <td>122.0</td>\n",
       "      <td>Drama</td>\n",
       "      <td>Orson Welles</td>\n",
       "      <td>6.9</td>\n",
       "      <td>4517.0</td>\n",
       "    </tr>\n",
       "    <tr>\n",
       "      <th>3</th>\n",
       "      <td>Sabse Bada Sukh</td>\n",
       "      <td>2018</td>\n",
       "      <td>NaN</td>\n",
       "      <td>Comedy,Drama</td>\n",
       "      <td>Hrishikesh Mukherjee</td>\n",
       "      <td>6.1</td>\n",
       "      <td>13.0</td>\n",
       "    </tr>\n",
       "    <tr>\n",
       "      <th>4</th>\n",
       "      <td>The Wandering Soap Opera</td>\n",
       "      <td>2017</td>\n",
       "      <td>80.0</td>\n",
       "      <td>Comedy,Drama,Fantasy</td>\n",
       "      <td>Raoul Ruiz</td>\n",
       "      <td>6.5</td>\n",
       "      <td>119.0</td>\n",
       "    </tr>\n",
       "  </tbody>\n",
       "</table>\n",
       "</div>"
      ],
      "text/plain": [
       "                     primary_title  start_year  runtime_minutes  \\\n",
       "0                        Sunghursh        2013            175.0   \n",
       "1  One Day Before the Rainy Season        2019            114.0   \n",
       "2       The Other Side of the Wind        2018            122.0   \n",
       "3                  Sabse Bada Sukh        2018              NaN   \n",
       "4         The Wandering Soap Opera        2017             80.0   \n",
       "\n",
       "                 genres         director_name  averagerating  numvotes  \n",
       "0    Action,Crime,Drama   Harnam Singh Rawail            7.0      77.0  \n",
       "1       Biography,Drama             Mani Kaul            7.2      43.0  \n",
       "2                 Drama          Orson Welles            6.9    4517.0  \n",
       "3          Comedy,Drama  Hrishikesh Mukherjee            6.1      13.0  \n",
       "4  Comedy,Drama,Fantasy            Raoul Ruiz            6.5     119.0  "
      ]
     },
     "execution_count": 10,
     "metadata": {},
     "output_type": "execute_result"
    }
   ],
   "source": [
    "df_db.head()"
   ]
  },
  {
   "cell_type": "markdown",
   "metadata": {},
   "source": [
    "### The Movie Database(tmdb.movies.csv)"
   ]
  },
  {
   "cell_type": "code",
   "execution_count": 11,
   "metadata": {},
   "outputs": [
    {
     "data": {
      "text/html": [
       "<div>\n",
       "<style scoped>\n",
       "    .dataframe tbody tr th:only-of-type {\n",
       "        vertical-align: middle;\n",
       "    }\n",
       "\n",
       "    .dataframe tbody tr th {\n",
       "        vertical-align: top;\n",
       "    }\n",
       "\n",
       "    .dataframe thead th {\n",
       "        text-align: right;\n",
       "    }\n",
       "</style>\n",
       "<table border=\"1\" class=\"dataframe\">\n",
       "  <thead>\n",
       "    <tr style=\"text-align: right;\">\n",
       "      <th></th>\n",
       "      <th>Unnamed: 0</th>\n",
       "      <th>genre_ids</th>\n",
       "      <th>id</th>\n",
       "      <th>original_language</th>\n",
       "      <th>original_title</th>\n",
       "      <th>popularity</th>\n",
       "      <th>release_date</th>\n",
       "      <th>title</th>\n",
       "      <th>vote_average</th>\n",
       "      <th>vote_count</th>\n",
       "    </tr>\n",
       "  </thead>\n",
       "  <tbody>\n",
       "    <tr>\n",
       "      <th>0</th>\n",
       "      <td>0</td>\n",
       "      <td>[12, 14, 10751]</td>\n",
       "      <td>12444</td>\n",
       "      <td>en</td>\n",
       "      <td>Harry Potter and the Deathly Hallows: Part 1</td>\n",
       "      <td>33.533</td>\n",
       "      <td>2010-11-19</td>\n",
       "      <td>Harry Potter and the Deathly Hallows: Part 1</td>\n",
       "      <td>7.7</td>\n",
       "      <td>10788</td>\n",
       "    </tr>\n",
       "    <tr>\n",
       "      <th>1</th>\n",
       "      <td>1</td>\n",
       "      <td>[14, 12, 16, 10751]</td>\n",
       "      <td>10191</td>\n",
       "      <td>en</td>\n",
       "      <td>How to Train Your Dragon</td>\n",
       "      <td>28.734</td>\n",
       "      <td>2010-03-26</td>\n",
       "      <td>How to Train Your Dragon</td>\n",
       "      <td>7.7</td>\n",
       "      <td>7610</td>\n",
       "    </tr>\n",
       "    <tr>\n",
       "      <th>2</th>\n",
       "      <td>2</td>\n",
       "      <td>[12, 28, 878]</td>\n",
       "      <td>10138</td>\n",
       "      <td>en</td>\n",
       "      <td>Iron Man 2</td>\n",
       "      <td>28.515</td>\n",
       "      <td>2010-05-07</td>\n",
       "      <td>Iron Man 2</td>\n",
       "      <td>6.8</td>\n",
       "      <td>12368</td>\n",
       "    </tr>\n",
       "    <tr>\n",
       "      <th>3</th>\n",
       "      <td>3</td>\n",
       "      <td>[16, 35, 10751]</td>\n",
       "      <td>862</td>\n",
       "      <td>en</td>\n",
       "      <td>Toy Story</td>\n",
       "      <td>28.005</td>\n",
       "      <td>1995-11-22</td>\n",
       "      <td>Toy Story</td>\n",
       "      <td>7.9</td>\n",
       "      <td>10174</td>\n",
       "    </tr>\n",
       "    <tr>\n",
       "      <th>4</th>\n",
       "      <td>4</td>\n",
       "      <td>[28, 878, 12]</td>\n",
       "      <td>27205</td>\n",
       "      <td>en</td>\n",
       "      <td>Inception</td>\n",
       "      <td>27.920</td>\n",
       "      <td>2010-07-16</td>\n",
       "      <td>Inception</td>\n",
       "      <td>8.3</td>\n",
       "      <td>22186</td>\n",
       "    </tr>\n",
       "  </tbody>\n",
       "</table>\n",
       "</div>"
      ],
      "text/plain": [
       "   Unnamed: 0            genre_ids     id original_language  \\\n",
       "0           0      [12, 14, 10751]  12444                en   \n",
       "1           1  [14, 12, 16, 10751]  10191                en   \n",
       "2           2        [12, 28, 878]  10138                en   \n",
       "3           3      [16, 35, 10751]    862                en   \n",
       "4           4        [28, 878, 12]  27205                en   \n",
       "\n",
       "                                 original_title  popularity release_date  \\\n",
       "0  Harry Potter and the Deathly Hallows: Part 1      33.533   2010-11-19   \n",
       "1                      How to Train Your Dragon      28.734   2010-03-26   \n",
       "2                                    Iron Man 2      28.515   2010-05-07   \n",
       "3                                     Toy Story      28.005   1995-11-22   \n",
       "4                                     Inception      27.920   2010-07-16   \n",
       "\n",
       "                                          title  vote_average  vote_count  \n",
       "0  Harry Potter and the Deathly Hallows: Part 1           7.7       10788  \n",
       "1                      How to Train Your Dragon           7.7        7610  \n",
       "2                                    Iron Man 2           6.8       12368  \n",
       "3                                     Toy Story           7.9       10174  \n",
       "4                                     Inception           8.3       22186  "
      ]
     },
     "execution_count": 11,
     "metadata": {},
     "output_type": "execute_result"
    }
   ],
   "source": [
    "#Load the dataset\n",
    "df_tmd = pd.read_csv('data/tmdb.movies.csv')\n",
    "\n",
    "#View the first few columns\n",
    "df_tmd.head()"
   ]
  },
  {
   "cell_type": "code",
   "execution_count": 12,
   "metadata": {},
   "outputs": [
    {
     "name": "stdout",
     "output_type": "stream",
     "text": [
      "<class 'pandas.core.frame.DataFrame'>\n",
      "RangeIndex: 26517 entries, 0 to 26516\n",
      "Data columns (total 10 columns):\n",
      " #   Column             Non-Null Count  Dtype  \n",
      "---  ------             --------------  -----  \n",
      " 0   Unnamed: 0         26517 non-null  int64  \n",
      " 1   genre_ids          26517 non-null  object \n",
      " 2   id                 26517 non-null  int64  \n",
      " 3   original_language  26517 non-null  object \n",
      " 4   original_title     26517 non-null  object \n",
      " 5   popularity         26517 non-null  float64\n",
      " 6   release_date       26517 non-null  object \n",
      " 7   title              26517 non-null  object \n",
      " 8   vote_average       26517 non-null  float64\n",
      " 9   vote_count         26517 non-null  int64  \n",
      "dtypes: float64(2), int64(3), object(5)\n",
      "memory usage: 2.0+ MB\n"
     ]
    }
   ],
   "source": [
    "df_tmd.info()"
   ]
  },
  {
   "cell_type": "code",
   "execution_count": 13,
   "metadata": {},
   "outputs": [
    {
     "data": {
      "text/plain": [
       "Unnamed: 0           0\n",
       "genre_ids            0\n",
       "id                   0\n",
       "original_language    0\n",
       "original_title       0\n",
       "popularity           0\n",
       "release_date         0\n",
       "title                0\n",
       "vote_average         0\n",
       "vote_count           0\n",
       "dtype: int64"
      ]
     },
     "execution_count": 13,
     "metadata": {},
     "output_type": "execute_result"
    }
   ],
   "source": [
    "#Investigate null\n",
    "df_tmd.isna().sum()"
   ]
  },
  {
   "cell_type": "markdown",
   "metadata": {},
   "source": [
    "### The Numbers Dataset(tn.movie_budgets.csv)"
   ]
  },
  {
   "cell_type": "code",
   "execution_count": 14,
   "metadata": {},
   "outputs": [
    {
     "data": {
      "text/html": [
       "<div>\n",
       "<style scoped>\n",
       "    .dataframe tbody tr th:only-of-type {\n",
       "        vertical-align: middle;\n",
       "    }\n",
       "\n",
       "    .dataframe tbody tr th {\n",
       "        vertical-align: top;\n",
       "    }\n",
       "\n",
       "    .dataframe thead th {\n",
       "        text-align: right;\n",
       "    }\n",
       "</style>\n",
       "<table border=\"1\" class=\"dataframe\">\n",
       "  <thead>\n",
       "    <tr style=\"text-align: right;\">\n",
       "      <th></th>\n",
       "      <th>id</th>\n",
       "      <th>release_date</th>\n",
       "      <th>movie</th>\n",
       "      <th>production_budget</th>\n",
       "      <th>domestic_gross</th>\n",
       "      <th>worldwide_gross</th>\n",
       "    </tr>\n",
       "  </thead>\n",
       "  <tbody>\n",
       "    <tr>\n",
       "      <th>0</th>\n",
       "      <td>1</td>\n",
       "      <td>Dec 18, 2009</td>\n",
       "      <td>Avatar</td>\n",
       "      <td>$425,000,000</td>\n",
       "      <td>$760,507,625</td>\n",
       "      <td>$2,776,345,279</td>\n",
       "    </tr>\n",
       "    <tr>\n",
       "      <th>1</th>\n",
       "      <td>2</td>\n",
       "      <td>May 20, 2011</td>\n",
       "      <td>Pirates of the Caribbean: On Stranger Tides</td>\n",
       "      <td>$410,600,000</td>\n",
       "      <td>$241,063,875</td>\n",
       "      <td>$1,045,663,875</td>\n",
       "    </tr>\n",
       "    <tr>\n",
       "      <th>2</th>\n",
       "      <td>3</td>\n",
       "      <td>Jun 7, 2019</td>\n",
       "      <td>Dark Phoenix</td>\n",
       "      <td>$350,000,000</td>\n",
       "      <td>$42,762,350</td>\n",
       "      <td>$149,762,350</td>\n",
       "    </tr>\n",
       "    <tr>\n",
       "      <th>3</th>\n",
       "      <td>4</td>\n",
       "      <td>May 1, 2015</td>\n",
       "      <td>Avengers: Age of Ultron</td>\n",
       "      <td>$330,600,000</td>\n",
       "      <td>$459,005,868</td>\n",
       "      <td>$1,403,013,963</td>\n",
       "    </tr>\n",
       "    <tr>\n",
       "      <th>4</th>\n",
       "      <td>5</td>\n",
       "      <td>Dec 15, 2017</td>\n",
       "      <td>Star Wars Ep. VIII: The Last Jedi</td>\n",
       "      <td>$317,000,000</td>\n",
       "      <td>$620,181,382</td>\n",
       "      <td>$1,316,721,747</td>\n",
       "    </tr>\n",
       "  </tbody>\n",
       "</table>\n",
       "</div>"
      ],
      "text/plain": [
       "   id  release_date                                        movie  \\\n",
       "0   1  Dec 18, 2009                                       Avatar   \n",
       "1   2  May 20, 2011  Pirates of the Caribbean: On Stranger Tides   \n",
       "2   3   Jun 7, 2019                                 Dark Phoenix   \n",
       "3   4   May 1, 2015                      Avengers: Age of Ultron   \n",
       "4   5  Dec 15, 2017            Star Wars Ep. VIII: The Last Jedi   \n",
       "\n",
       "  production_budget domestic_gross worldwide_gross  \n",
       "0      $425,000,000   $760,507,625  $2,776,345,279  \n",
       "1      $410,600,000   $241,063,875  $1,045,663,875  \n",
       "2      $350,000,000    $42,762,350    $149,762,350  \n",
       "3      $330,600,000   $459,005,868  $1,403,013,963  \n",
       "4      $317,000,000   $620,181,382  $1,316,721,747  "
      ]
     },
     "execution_count": 14,
     "metadata": {},
     "output_type": "execute_result"
    }
   ],
   "source": [
    "#Load the data frame\n",
    "df_tn = pd.read_csv('data/tn.movie_budgets.csv')\n",
    "df_tn.head()"
   ]
  },
  {
   "cell_type": "code",
   "execution_count": 15,
   "metadata": {},
   "outputs": [
    {
     "name": "stdout",
     "output_type": "stream",
     "text": [
      "<class 'pandas.core.frame.DataFrame'>\n",
      "RangeIndex: 5782 entries, 0 to 5781\n",
      "Data columns (total 6 columns):\n",
      " #   Column             Non-Null Count  Dtype \n",
      "---  ------             --------------  ----- \n",
      " 0   id                 5782 non-null   int64 \n",
      " 1   release_date       5782 non-null   object\n",
      " 2   movie              5782 non-null   object\n",
      " 3   production_budget  5782 non-null   object\n",
      " 4   domestic_gross     5782 non-null   object\n",
      " 5   worldwide_gross    5782 non-null   object\n",
      "dtypes: int64(1), object(5)\n",
      "memory usage: 271.2+ KB\n"
     ]
    }
   ],
   "source": [
    "df_tn.info()"
   ]
  },
  {
   "cell_type": "code",
   "execution_count": 16,
   "metadata": {},
   "outputs": [],
   "source": [
    "#change data types accordingly\n",
    "df_tn['production_budget'] = df_tn['production_budget'].str.replace('$','').str.replace(\",\",'').astype(float)\n",
    "df_tn['domestic_gross'] = df_tn['domestic_gross'].str.replace('$','').str.replace(\",\",'').astype(float)\n",
    "df_tn['worldwide_gross'] = df_tn['worldwide_gross'].str.replace('$','').str.replace(\",\",'').astype(float)\n"
   ]
  },
  {
   "cell_type": "code",
   "execution_count": 17,
   "metadata": {},
   "outputs": [
    {
     "data": {
      "text/plain": [
       "id                   0\n",
       "release_date         0\n",
       "movie                0\n",
       "production_budget    0\n",
       "domestic_gross       0\n",
       "worldwide_gross      0\n",
       "dtype: int64"
      ]
     },
     "execution_count": 17,
     "metadata": {},
     "output_type": "execute_result"
    }
   ],
   "source": [
    "#Investigate null\n",
    "df_tn.isna().sum()"
   ]
  },
  {
   "cell_type": "markdown",
   "metadata": {},
   "source": [
    "## 2. Genre Analysis\n",
    "\n",
    "Understanding which movie genres are most profitable is essential for strategic planning in the film industry. By identifying trends in genre popularity and profitability, Microsoft's new movie studio can make informed decisions about the types of films to produce. In this section, we will analyze the genres of movies in our dataset to determine:\n",
    "\n",
    "- **Which genres consistently perform well at the box office.**\n",
    "- **The average box office returns for each genre.**\n",
    "\n",
    "### The Most Produced Genres\n",
    "\n",
    "Understanding which genres are most frequently produced can provide insight into industry trends and audience preferences. By analyzing the frequency of each genre, we can identify which types of movies are most common and possibly why they are favored by filmmakers and studios."
   ]
  },
  {
   "cell_type": "code",
   "execution_count": 18,
   "metadata": {},
   "outputs": [
    {
     "data": {
      "image/png": "[encoded data removed]",
      "text/plain": [
       "<Figure size 864x576 with 1 Axes>"
      ]
     },
     "metadata": {
      "needs_background": "light"
     },
     "output_type": "display_data"
    }
   ],
   "source": [
    "# Split the genres into lists\n",
    "genres_series = df_db['genres'].str.split(',').dropna()\n",
    "\n",
    "# Flatten the list of lists and count occurrences of each genre\n",
    "genres_flat = [genre for sublist in genres_series for genre in sublist]\n",
    "genre_counts = Counter(genres_flat)\n",
    "\n",
    "# Convert the Counter object to a DataFrame for easy plotting\n",
    "genre_counts_df = pd.DataFrame(genre_counts.items(), columns=['genre', 'count'])\n",
    "\n",
    "# Get the top 10 most produced genres\n",
    "top_genres = genre_counts_df.nlargest(10, 'count')\n",
    "\n",
    "# Plot the top 10 most produced genres\n",
    "plt.figure(figsize=(12, 8))\n",
    "sns.barplot(x='count', y='genre', data=top_genres, palette='viridis')\n",
    "plt.title('Top 10 Most Produced Genres')\n",
    "plt.xlabel('Number of Movies Produced')\n",
    "plt.ylabel('Genre')\n",
    "plt.show()"
   ]
  },
  {
   "cell_type": "markdown",
   "metadata": {},
   "source": [
    "### Genre Profitability Analysis\n",
    "\n",
    "In this section, we aim to identify which genres are the most profitable by analyzing their average box office gross. Understanding genre profitability will help Microsoft's new movie studio make informed decisions about which genres to invest in.\n",
    "\n",
    "#### Steps for analysis\n",
    "\n",
    "1. **Data Preparation:** We merged the box office data with the genre information.\n",
    "2. **Calculate Average Gross:** For each genre, we computed the average box office gross.\n",
    "3. **Visualization:** We plotted the average gross for each genre to highlight the most profitable ones."
   ]
  },
  {
   "cell_type": "code",
   "execution_count": 19,
   "metadata": {},
   "outputs": [
    {
     "data": {
      "image/png": "[encoded data removed]",
      "text/plain": [
       "<Figure size 864x360 with 2 Axes>"
      ]
     },
     "metadata": {
      "needs_background": "light"
     },
     "output_type": "display_data"
    }
   ],
   "source": [
    "# Merge DataFrames on primary_title and title\n",
    "\n",
    "#merge the data frames:\n",
    "\n",
    "#first we merge imdb dataset to the bom dateset\n",
    "df = pd.merge(df_db, df_bom, left_on='primary_title', right_on='title')\n",
    "\n",
    "#merge to tmd dataset\n",
    "df = pd.merge(df, df_tmd, left_on='primary_title', right_on='title')\n",
    "\n",
    "#merge to the tn dataset\n",
    "df = pd.merge(df, df_tn, left_on='primary_title', right_on='movie')\n",
    "\n",
    "#drop duplicated titles\n",
    "df = df.drop_duplicates(subset='primary_title')\n",
    "\n",
    "# Split genres into lists and drop rows with missing genres\n",
    "df['genres_list'] = df['genres'].str.split(',').dropna()\n",
    "\n",
    "# Explode the genres into separate rows\n",
    "df = df.explode('genres_list')\n",
    "\n",
    "df['profit'] = df['worldwide_gross'] - df['domestic_gross_x']\n",
    "\n",
    "#Calculate average box office gross for each genre\n",
    "genre_gross = df.groupby('genres_list')['worldwide_gross'].mean().reset_index()\n",
    "\n",
    "# Rename columns for clarity\n",
    "genre_gross.columns = ['genre', 'average_gross']\n",
    "\n",
    "#Get the top 10 most grossing genres\n",
    "top_grossing_genres = genre_gross.nlargest(10, 'average_gross')\n",
    "\n",
    "#Calculate average box office profit for each genre\n",
    "genre_profit = df.groupby('genres_list')['profit'].mean().reset_index()\n",
    "\n",
    "#Rename columns for clarity\n",
    "genre_profit.columns = ['genre', 'average_profit']\n",
    "\n",
    "#Get top 10 most protitable genres\n",
    "top_profitable_genres = genre_profit.nlargest(10, 'average_profit')\n",
    "\n",
    "# Plot the top 10 most grossing genres\n",
    "fig, axes = plt.subplots(1, 2, figsize=(12, 5))\n",
    "sns.barplot(x='average_gross', y='genre', data=top_grossing_genres, palette='viridis', ax=axes[0])\n",
    "axes[0].set_title('Top 10 Most Grossing Genres')\n",
    "axes[0].set_xlabel('Average Box Office Gross')\n",
    "axes[0].set_ylabel('Genre')\n",
    "\n",
    "# Plot the top 10 most profitable genres\n",
    "sns.barplot(x='average_profit', y='genre', data=top_profitable_genres, palette='viridis', ax=axes[1])\n",
    "axes[1].set_title('Top 10 Most Profitable Genres')\n",
    "axes[1].set_xlabel('Average Box Office Profit')\n",
    "axes[1].set_ylabel('Genre')\n",
    "\n",
    "plt.tight_layout()"
   ]
  },
  {
   "cell_type": "markdown",
   "metadata": {},
   "source": [
    "### Findings\n",
    "While Documentary, Drama, and Comedy genres represent the majority of movies produced, Adventure, Sci-Fi, and Animation emerge as the most profitable genres."
   ]
  },
  {
   "cell_type": "markdown",
   "metadata": {},
   "source": [
    "## 3. Correlation Analysis: Movie Attributes and Box Office Returns\n",
    "In this section, we will analyze various movie attributes to determine which factors are correlated with higher box office returns. The attributes to be investigated include:\n",
    "\n",
    "- Genre\n",
    "- Production Budget\n",
    "- Critical Ratings \n",
    "- Audience Ratings\n",
    "- Release Date \n",
    "\n",
    "By understanding the impact of these attributes, we aim to provide insights that can guide decision-making for future movie productions."
   ]
  },
  {
   "cell_type": "code",
   "execution_count": 20,
   "metadata": {},
   "outputs": [
    {
     "data": {
      "text/plain": [
       "Text(0.5, 1.0, 'Correlation Matrix of Movie Attributes and Box Office Returns')"
      ]
     },
     "execution_count": 20,
     "metadata": {},
     "output_type": "execute_result"
    },
    {
     "data": {
      "image/png": "[encoded data removed]",
      "text/plain": [
       "<Figure size 720x576 with 2 Axes>"
      ]
     },
     "metadata": {
      "needs_background": "light"
     },
     "output_type": "display_data"
    }
   ],
   "source": [
    "#merge the data frames:\n",
    "\n",
    "#first we merge imdb dataset to the bom dateset\n",
    "df = pd.merge(df_db, df_bom, left_on='primary_title', right_on='title')\n",
    "\n",
    "#merge to tmd dataset\n",
    "df = pd.merge(df, df_tmd, left_on='primary_title', right_on='title')\n",
    "\n",
    "#merge to the tn dataset\n",
    "df = pd.merge(df, df_tn, left_on='primary_title', right_on='movie')\n",
    "\n",
    "\n",
    "#drop columns that we won't be using\n",
    "df = df[['primary_title', 'averagerating', 'numvotes', 'popularity', \n",
    "         'release_date_y', 'vote_average', 'vote_count', 'production_budget', 'worldwide_gross']]\n",
    "\n",
    "#drop duplicated titles\n",
    "df = df.drop_duplicates(subset='primary_title')\n",
    "\n",
    "#perform correlation analysis:\n",
    "corr_matrix = df[['production_budget', 'worldwide_gross', 'averagerating', 'numvotes']].corr()\n",
    "\n",
    "corr_matrix\n",
    "\n",
    "#Plot correlation heatmap\n",
    "plt.figure(figsize=(10, 8))\n",
    "sns.heatmap(corr_matrix, annot=True, cmap='viridis_r', vmin=-1, vmax=1)\n",
    "plt.title('Correlation Matrix of Movie Attributes and Box Office Returns')"
   ]
  },
  {
   "cell_type": "code",
   "execution_count": 21,
   "metadata": {},
   "outputs": [
    {
     "name": "stdout",
     "output_type": "stream",
     "text": [
      "Correlation between Month and Worldwide Gross: 0.029959394901300423\n"
     ]
    }
   ],
   "source": [
    "# how release date correlates to worlwide gross:\n",
    "\n",
    "# Convert 'Date' column to datetime data type\n",
    "df['release_date_y'] = pd.to_datetime(df['release_date_y'])\n",
    "\n",
    "# Extract month from the 'Date' column\n",
    "df['Month'] = df['release_date_y'].dt.month\n",
    "\n",
    "# Calculate correlation between 'Month' and 'Worldwide Gross'\n",
    "correlation = df['Month'].corr(df['worldwide_gross'])\n",
    "\n",
    "print(\"Correlation between Month and Worldwide Gross:\", correlation)"
   ]
  },
  {
   "cell_type": "markdown",
   "metadata": {},
   "source": [
    "### Findings\n",
    "- **Production Budget**:there positive correlation with worldwide gross.\n",
    "- **Number of Votes**: More votes correlates with higher box office returns, as it suggests a larger audience reach."
   ]
  },
  {
   "cell_type": "markdown",
   "metadata": {},
   "source": [
    "## 4. critical and audience ratings impact on movie's financial success\n",
    "\n",
    "In this analysis, we aim to explore the relationships between movie ratings, gross income, and profit. By visualizing these relationships through scatter plots and box plots, we can gain insights into how movie ratings correlate with financial performance."
   ]
  },
  {
   "cell_type": "code",
   "execution_count": 22,
   "metadata": {},
   "outputs": [
    {
     "data": {
      "image/png": "[encoded data removed]",
      "text/plain": [
       "<Figure size 1296x432 with 3 Axes>"
      ]
     },
     "metadata": {
      "needs_background": "light"
     },
     "output_type": "display_data"
    }
   ],
   "source": [
    "#merge the data frames:\n",
    "\n",
    "#first we merge imdb dataset to the bom dateset\n",
    "df = pd.merge(df_db, df_bom, left_on='primary_title', right_on='title')\n",
    "\n",
    "#merge to tmd dataset\n",
    "df = pd.merge(df, df_tmd, left_on='primary_title', right_on='title')\n",
    "\n",
    "#merge to the tn dataset\n",
    "df = pd.merge(df, df_tn, left_on='primary_title', right_on='movie')\n",
    "\n",
    "\n",
    "#drop columns that we won't be using\n",
    "df = df[['primary_title', 'averagerating', 'numvotes', 'popularity', \n",
    "         'release_date_y', 'vote_average', 'vote_count', 'production_budget', 'worldwide_gross', 'domestic_gross_x']]\n",
    "\n",
    "#drop duplicated titles\n",
    "df = df.drop_duplicates(subset='primary_title')\n",
    "\n",
    "#create the profit column\n",
    "df['profit'] = df['worldwide_gross'] - df['domestic_gross_x']\n",
    "\n",
    "#plotting\n",
    "fig, axes = plt.subplots(1,3, figsize=(18,6))\n",
    "\n",
    "# Scatter plot: movie_ratings vs. gross_income\n",
    "sns.scatterplot(x='averagerating', y='worldwide_gross', data=df, ax=axes[0])\n",
    "axes[0].set_title('Ratings vs. Gross Income')\n",
    "axes[0].set_xlabel('Movie Ratings')\n",
    "axes[0].set_ylabel('Gross Income')\n",
    "\n",
    "# Scatter plot: movie_ratings vs. profit\n",
    "sns.scatterplot(x='averagerating', y='profit', data=df, ax=axes[1])\n",
    "axes[1].set_title('Ratings vs. Profit')\n",
    "axes[1].set_xlabel('Movie Ratings')\n",
    "axes[1].set_ylabel('Profit')\n",
    "\n",
    "# Box plots for gross income and profit across different rating categories\n",
    "# For demonstration, let's assume we categorize ratings into bins\n",
    "df['rating_category'] = pd.cut(df['averagerating'], bins=[0, 6, 7, 8, 10], labels=['Poor', 'Average', 'Good', 'Excellent'])\n",
    "\n",
    "sns.boxplot(x='rating_category', y='worldwide_gross', data=df, ax=axes[2])\n",
    "sns.boxplot(x='rating_category', y='profit', data=df, ax=axes[2], color='red')\n",
    "axes[2].set_title('Gross Income and Profit by Rating Category')\n",
    "axes[2].set_xlabel('Rating Category')\n",
    "axes[2].set_ylabel('Gross Income / Profit')\n",
    "\n",
    "plt.tight_layout()\n"
   ]
  },
  {
   "cell_type": "markdown",
   "metadata": {},
   "source": [
    "There appears to be no clear relationship between movie ratings and financial success. Incorporating additional relevant factors alongside ratings may reveal a more significant connection."
   ]
  },
  {
   "cell_type": "code",
   "execution_count": 25,
   "metadata": {},
   "outputs": [
    {
     "data": {
      "text/html": [
       "<div>\n",
       "<style scoped>\n",
       "    .dataframe tbody tr th:only-of-type {\n",
       "        vertical-align: middle;\n",
       "    }\n",
       "\n",
       "    .dataframe tbody tr th {\n",
       "        vertical-align: top;\n",
       "    }\n",
       "\n",
       "    .dataframe thead th {\n",
       "        text-align: right;\n",
       "    }\n",
       "</style>\n",
       "<table border=\"1\" class=\"dataframe\">\n",
       "  <thead>\n",
       "    <tr style=\"text-align: right;\">\n",
       "      <th></th>\n",
       "      <th>id</th>\n",
       "      <th>release_date</th>\n",
       "      <th>movie</th>\n",
       "      <th>production_budget</th>\n",
       "      <th>domestic_gross</th>\n",
       "      <th>worldwide_gross</th>\n",
       "    </tr>\n",
       "  </thead>\n",
       "  <tbody>\n",
       "    <tr>\n",
       "      <th>0</th>\n",
       "      <td>1</td>\n",
       "      <td>Dec 18, 2009</td>\n",
       "      <td>Avatar</td>\n",
       "      <td>425000000.0</td>\n",
       "      <td>760507625.0</td>\n",
       "      <td>2.776345e+09</td>\n",
       "    </tr>\n",
       "    <tr>\n",
       "      <th>1</th>\n",
       "      <td>2</td>\n",
       "      <td>May 20, 2011</td>\n",
       "      <td>Pirates of the Caribbean: On Stranger Tides</td>\n",
       "      <td>410600000.0</td>\n",
       "      <td>241063875.0</td>\n",
       "      <td>1.045664e+09</td>\n",
       "    </tr>\n",
       "    <tr>\n",
       "      <th>2</th>\n",
       "      <td>3</td>\n",
       "      <td>Jun 7, 2019</td>\n",
       "      <td>Dark Phoenix</td>\n",
       "      <td>350000000.0</td>\n",
       "      <td>42762350.0</td>\n",
       "      <td>1.497624e+08</td>\n",
       "    </tr>\n",
       "    <tr>\n",
       "      <th>3</th>\n",
       "      <td>4</td>\n",
       "      <td>May 1, 2015</td>\n",
       "      <td>Avengers: Age of Ultron</td>\n",
       "      <td>330600000.0</td>\n",
       "      <td>459005868.0</td>\n",
       "      <td>1.403014e+09</td>\n",
       "    </tr>\n",
       "    <tr>\n",
       "      <th>4</th>\n",
       "      <td>5</td>\n",
       "      <td>Dec 15, 2017</td>\n",
       "      <td>Star Wars Ep. VIII: The Last Jedi</td>\n",
       "      <td>317000000.0</td>\n",
       "      <td>620181382.0</td>\n",
       "      <td>1.316722e+09</td>\n",
       "    </tr>\n",
       "  </tbody>\n",
       "</table>\n",
       "</div>"
      ],
      "text/plain": [
       "   id  release_date                                        movie  \\\n",
       "0   1  Dec 18, 2009                                       Avatar   \n",
       "1   2  May 20, 2011  Pirates of the Caribbean: On Stranger Tides   \n",
       "2   3   Jun 7, 2019                                 Dark Phoenix   \n",
       "3   4   May 1, 2015                      Avengers: Age of Ultron   \n",
       "4   5  Dec 15, 2017            Star Wars Ep. VIII: The Last Jedi   \n",
       "\n",
       "   production_budget  domestic_gross  worldwide_gross  \n",
       "0        425000000.0     760507625.0     2.776345e+09  \n",
       "1        410600000.0     241063875.0     1.045664e+09  \n",
       "2        350000000.0      42762350.0     1.497624e+08  \n",
       "3        330600000.0     459005868.0     1.403014e+09  \n",
       "4        317000000.0     620181382.0     1.316722e+09  "
      ]
     },
     "execution_count": 25,
     "metadata": {},
     "output_type": "execute_result"
    }
   ],
   "source": [
    "df_tn.head()"
   ]
  },
  {
   "cell_type": "code",
   "execution_count": 28,
   "metadata": {},
   "outputs": [
    {
     "data": {
      "image/png": "[encoded data removed]",
      "text/plain": [
       "<Figure size 864x576 with 1 Axes>"
      ]
     },
     "metadata": {
      "needs_background": "light"
     },
     "output_type": "display_data"
    }
   ],
   "source": [
    "# Plot the top 10 most produced genres\n",
    "plt.figure(figsize=(12, 8))\n",
    "sns.barplot(x='worldwide_gross', y='movie', data=df_tn.nlargest(10, 'worldwide_gross'), palette='viridis')\n",
    "plt.title('Top 10 Most Produced Genres')\n",
    "plt.xlabel('Number of Movies Produced')\n",
    "plt.ylabel('Genre')\n",
    "plt.show()"
   ]
  },
  {
   "cell_type": "code",
   "execution_count": null,
   "metadata": {},
   "outputs": [],
   "source": []
  }
 ],
 "metadata": {
  "kernelspec": {
   "display_name": "learn-env",
   "language": "python",
   "name": "learn-env"
  },
  "language_info": {
   "codemirror_mode": {
    "name": "ipython",
    "version": 3
   },
   "file_extension": ".py",
   "mimetype": "text/x-python",
   "name": "python",
   "nbconvert_exporter": "python",
   "pygments_lexer": "ipython3",
   "version": "3.8.5"
  }
 },
 "nbformat": 4,
 "nbformat_minor": 4
}
