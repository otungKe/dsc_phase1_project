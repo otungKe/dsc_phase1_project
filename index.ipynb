{
 "cells": [
  {
   "cell_type": "markdown",
   "metadata": {},
   "source": [
    "# Movie Analysis for Microsoft's New Movie Studio\n",
    "\n",
    "## Overview\n",
    "This project analyzes various movie datasets to provide actionable insights for Microsoft's new movie studio. The goal is to identify key factors that contribute to a film's success, helping Microsoft make data-driven decisions on what types of films to produce.\n",
    "\n",
    "## Business Understanding\n",
    "**Stakeholder:** Microsoft's new movie studio.\n",
    "\n",
    "**Business Problem:** Microsoft wants to enter the movie production market but lacks experience in creating films. They need insights into the types of movies that are currently performing well at the box office to inform their production strategy.\n",
    "\n",
    "**Key Business Questions:**\n",
    "1. What genres are most profitable?\n",
    "2. Which movie attributes correlate with higher box office returns?\n",
    "3. How do critical and audience ratings impact a movie's financial success?\n",
    "\n",
    "## Data Understanding\n",
    "The analysis uses data from multiple sources:\n",
    "- **Box Office Mojo (bom.movie_gross.csv):** Contains box office data.\n",
    "- **IMDB (im.db):** SQLite database with detailed movie information and ratings.\n",
    "- **The Movie Database (tmdb.movies.csv):** Contains vote information.\n",
    "- **The Numbers (tn.movie_budgets.csv):** Contains information about production budget, and gross revenue information."
   ]
  },
  {
   "cell_type": "code",
   "execution_count": null,
   "metadata": {},
   "outputs": [],
   "source": []
  }
 ],
 "metadata": {
  "kernelspec": {
   "display_name": "learn-env",
   "language": "python",
   "name": "learn-env"
  },
  "language_info": {
   "codemirror_mode": {
    "name": "ipython",
    "version": 3
   },
   "file_extension": ".py",
   "mimetype": "text/x-python",
   "name": "python",
   "nbconvert_exporter": "python",
   "pygments_lexer": "ipython3",
   "version": "3.8.5"
  }
 },
 "nbformat": 4,
 "nbformat_minor": 4
}
